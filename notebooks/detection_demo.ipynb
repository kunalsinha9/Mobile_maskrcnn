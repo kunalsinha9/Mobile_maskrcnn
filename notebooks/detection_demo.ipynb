{
 "cells": [
  {
   "cell_type": "markdown",
   "metadata": {},
   "source": [
    "# Mask R-CNN Demo\n",
    "\n",
    "A quick intro to using the pre-trained model to detect and segment objects."
   ]
  },
  {
   "cell_type": "code",
   "execution_count": 1,
   "metadata": {},
   "outputs": [
    {
     "name": "stderr",
     "output_type": "stream",
     "text": [
      "/Library/Frameworks/Python.framework/Versions/3.7/lib/python3.7/site-packages/tensorflow/python/framework/dtypes.py:516: FutureWarning: Passing (type, 1) or '1type' as a synonym of type is deprecated; in a future version of numpy, it will be understood as (type, (1,)) / '(1,)type'.\n",
      "  _np_qint8 = np.dtype([(\"qint8\", np.int8, 1)])\n",
      "/Library/Frameworks/Python.framework/Versions/3.7/lib/python3.7/site-packages/tensorflow/python/framework/dtypes.py:517: FutureWarning: Passing (type, 1) or '1type' as a synonym of type is deprecated; in a future version of numpy, it will be understood as (type, (1,)) / '(1,)type'.\n",
      "  _np_quint8 = np.dtype([(\"quint8\", np.uint8, 1)])\n",
      "/Library/Frameworks/Python.framework/Versions/3.7/lib/python3.7/site-packages/tensorflow/python/framework/dtypes.py:518: FutureWarning: Passing (type, 1) or '1type' as a synonym of type is deprecated; in a future version of numpy, it will be understood as (type, (1,)) / '(1,)type'.\n",
      "  _np_qint16 = np.dtype([(\"qint16\", np.int16, 1)])\n",
      "/Library/Frameworks/Python.framework/Versions/3.7/lib/python3.7/site-packages/tensorflow/python/framework/dtypes.py:519: FutureWarning: Passing (type, 1) or '1type' as a synonym of type is deprecated; in a future version of numpy, it will be understood as (type, (1,)) / '(1,)type'.\n",
      "  _np_quint16 = np.dtype([(\"quint16\", np.uint16, 1)])\n",
      "/Library/Frameworks/Python.framework/Versions/3.7/lib/python3.7/site-packages/tensorflow/python/framework/dtypes.py:520: FutureWarning: Passing (type, 1) or '1type' as a synonym of type is deprecated; in a future version of numpy, it will be understood as (type, (1,)) / '(1,)type'.\n",
      "  _np_qint32 = np.dtype([(\"qint32\", np.int32, 1)])\n",
      "/Library/Frameworks/Python.framework/Versions/3.7/lib/python3.7/site-packages/tensorflow/python/framework/dtypes.py:525: FutureWarning: Passing (type, 1) or '1type' as a synonym of type is deprecated; in a future version of numpy, it will be understood as (type, (1,)) / '(1,)type'.\n",
      "  np_resource = np.dtype([(\"resource\", np.ubyte, 1)])\n",
      "/Library/Frameworks/Python.framework/Versions/3.7/lib/python3.7/site-packages/tensorboard/compat/tensorflow_stub/dtypes.py:541: FutureWarning: Passing (type, 1) or '1type' as a synonym of type is deprecated; in a future version of numpy, it will be understood as (type, (1,)) / '(1,)type'.\n",
      "  _np_qint8 = np.dtype([(\"qint8\", np.int8, 1)])\n",
      "/Library/Frameworks/Python.framework/Versions/3.7/lib/python3.7/site-packages/tensorboard/compat/tensorflow_stub/dtypes.py:542: FutureWarning: Passing (type, 1) or '1type' as a synonym of type is deprecated; in a future version of numpy, it will be understood as (type, (1,)) / '(1,)type'.\n",
      "  _np_quint8 = np.dtype([(\"quint8\", np.uint8, 1)])\n",
      "/Library/Frameworks/Python.framework/Versions/3.7/lib/python3.7/site-packages/tensorboard/compat/tensorflow_stub/dtypes.py:543: FutureWarning: Passing (type, 1) or '1type' as a synonym of type is deprecated; in a future version of numpy, it will be understood as (type, (1,)) / '(1,)type'.\n",
      "  _np_qint16 = np.dtype([(\"qint16\", np.int16, 1)])\n",
      "/Library/Frameworks/Python.framework/Versions/3.7/lib/python3.7/site-packages/tensorboard/compat/tensorflow_stub/dtypes.py:544: FutureWarning: Passing (type, 1) or '1type' as a synonym of type is deprecated; in a future version of numpy, it will be understood as (type, (1,)) / '(1,)type'.\n",
      "  _np_quint16 = np.dtype([(\"quint16\", np.uint16, 1)])\n",
      "/Library/Frameworks/Python.framework/Versions/3.7/lib/python3.7/site-packages/tensorboard/compat/tensorflow_stub/dtypes.py:545: FutureWarning: Passing (type, 1) or '1type' as a synonym of type is deprecated; in a future version of numpy, it will be understood as (type, (1,)) / '(1,)type'.\n",
      "  _np_qint32 = np.dtype([(\"qint32\", np.int32, 1)])\n",
      "/Library/Frameworks/Python.framework/Versions/3.7/lib/python3.7/site-packages/tensorboard/compat/tensorflow_stub/dtypes.py:550: FutureWarning: Passing (type, 1) or '1type' as a synonym of type is deprecated; in a future version of numpy, it will be understood as (type, (1,)) / '(1,)type'.\n",
      "  np_resource = np.dtype([(\"resource\", np.ubyte, 1)])\n"
     ]
    },
    {
     "name": "stdout",
     "output_type": "stream",
     "text": [
      "[(1.0, 0.0, 0.0), (1.0, 0.07407407407407407, 0.0), (1.0, 0.14814814814814814, 0.0), (1.0, 0.2222222222222222, 0.0), (1.0, 0.2962962962962963, 0.0), (1.0, 0.37037037037037035, 0.0), (1.0, 0.4444444444444444, 0.0), (1.0, 0.5185185185185185, 0.0), (1.0, 0.5925925925925926, 0.0), (1.0, 0.6666666666666666, 0.0), (1.0, 0.7407407407407407, 0.0), (1.0, 0.8148148148148148, 0.0), (1.0, 0.8888888888888888, 0.0), (1.0, 0.9629629629629629, 0.0), (0.962962962962963, 1.0, 0.0), (0.8888888888888888, 1.0, 0.0), (0.8148148148148149, 1.0, 0.0), (0.7407407407407409, 1.0, 0.0), (0.6666666666666667, 1.0, 0.0), (0.5925925925925926, 1.0, 0.0), (0.5185185185185186, 1.0, 0.0), (0.44444444444444464, 1.0, 0.0), (0.37037037037037046, 1.0, 0.0), (0.2962962962962963, 1.0, 0.0), (0.22222222222222232, 1.0, 0.0), (0.14814814814814836, 1.0, 0.0), (0.07407407407407418, 1.0, 0.0), (0.0, 1.0, 0.0), (0.0, 1.0, 0.07407407407407396), (0.0, 1.0, 0.14814814814814792), (0.0, 1.0, 0.22222222222222232), (0.0, 1.0, 0.2962962962962963), (0.0, 1.0, 0.37037037037037024), (0.0, 1.0, 0.4444444444444442), (0.0, 1.0, 0.5185185185185182), (0.0, 1.0, 0.5925925925925926), (0.0, 1.0, 0.6666666666666665), (0.0, 1.0, 0.7407407407407405), (0.0, 1.0, 0.8148148148148149), (0.0, 1.0, 0.8888888888888888), (0.0, 1.0, 0.9629629629629628), (0.0, 0.9629629629629628, 1.0), (0.0, 0.8888888888888893, 1.0), (0.0, 0.8148148148148149, 1.0), (0.0, 0.7407407407407409, 1.0), (0.0, 0.6666666666666665, 1.0), (0.0, 0.5925925925925926, 1.0), (0.0, 0.5185185185185182, 1.0), (0.0, 0.44444444444444464, 1.0), (0.0, 0.37037037037037024, 1.0), (0.0, 0.2962962962962967, 1.0), (0.0, 0.22222222222222232, 1.0), (0.0, 0.14814814814814836, 1.0), (0.0, 0.07407407407407396, 1.0), (0.0, 0.0, 1.0), (0.0740740740740744, 0.0, 1.0), (0.14814814814814792, 0.0, 1.0), (0.22222222222222232, 0.0, 1.0), (0.29629629629629584, 0.0, 1.0), (0.37037037037037024, 0.0, 1.0), (0.44444444444444464, 0.0, 1.0), (0.518518518518519, 0.0, 1.0), (0.5925925925925926, 0.0, 1.0), (0.666666666666667, 0.0, 1.0), (0.7407407407407405, 0.0, 1.0), (0.8148148148148149, 0.0, 1.0), (0.8888888888888884, 0.0, 1.0), (0.9629629629629628, 0.0, 1.0), (1.0, 0.0, 0.9629629629629637), (1.0, 0.0, 0.8888888888888893), (1.0, 0.0, 0.8148148148148149), (1.0, 0.0, 0.7407407407407405), (1.0, 0.0, 0.666666666666667), (1.0, 0.0, 0.5925925925925926), (1.0, 0.0, 0.518518518518519), (1.0, 0.0, 0.44444444444444464), (1.0, 0.0, 0.37037037037037024), (1.0, 0.0, 0.29629629629629584), (1.0, 0.0, 0.22222222222222232), (1.0, 0.0, 0.14814814814814792), (1.0, 0.0, 0.0740740740740744)]\n",
      "color dictionary {'BG': (0.0, 0.5925925925925926, 1.0), 'person': (0.0, 1.0, 0.9629629629629628), 'bicycle': (0.0, 0.37037037037037024, 1.0), 'car': (0.0, 0.8888888888888893, 1.0), 'motorcycle': (0.6666666666666667, 1.0, 0.0), 'airplane': (0.962962962962963, 1.0, 0.0), 'bus': (1.0, 0.0, 0.0740740740740744), 'train': (1.0, 0.0, 0.8888888888888893), 'truck': (0.7407407407407409, 1.0, 0.0), 'boat': (0.0, 0.6666666666666665, 1.0), 'traffic light': (0.0, 0.9629629629629628, 1.0), 'fire hydrant': (1.0, 0.4444444444444444, 0.0), 'stop sign': (0.0, 1.0, 0.14814814814814792), 'parking meter': (0.0, 0.7407407407407409, 1.0), 'bench': (1.0, 0.0, 0.0), 'bird': (0.0, 1.0, 0.5925925925925926), 'cat': (0.22222222222222232, 1.0, 0.0), 'dog': (0.8148148148148149, 0.0, 1.0), 'horse': (0.29629629629629584, 0.0, 1.0), 'sheep': (0.666666666666667, 0.0, 1.0), 'cow': (0.0, 1.0, 0.8148148148148149), 'elephant': (0.14814814814814792, 0.0, 1.0), 'bear': (0.0, 1.0, 0.6666666666666665), 'zebra': (1.0, 0.0, 0.518518518518519), 'giraffe': (0.0, 0.0, 1.0), 'backpack': (0.07407407407407418, 1.0, 0.0), 'umbrella': (0.0, 1.0, 0.4444444444444442), 'handbag': (0.0, 1.0, 0.0), 'tie': (0.0, 0.22222222222222232, 1.0), 'suitcase': (0.0, 1.0, 0.22222222222222232), 'frisbee': (0.0, 0.14814814814814836, 1.0), 'skis': (0.37037037037037046, 1.0, 0.0), 'snowboard': (0.0, 1.0, 0.37037037037037024), 'sports ball': (0.5925925925925926, 0.0, 1.0), 'kite': (1.0, 0.0, 0.7407407407407405), 'baseball bat': (1.0, 0.37037037037037035, 0.0), 'baseball glove': (0.0, 0.5185185185185182, 1.0), 'skateboard': (0.0, 1.0, 0.8888888888888888), 'surfboard': (0.0740740740740744, 0.0, 1.0), 'tennis racket': (0.0, 0.44444444444444464, 1.0), 'bottle': (1.0, 0.0, 0.44444444444444464), 'wine glass': (1.0, 0.0, 0.14814814814814792), 'cup': (0.8888888888888884, 0.0, 1.0), 'fork': (0.14814814814814836, 1.0, 0.0), 'knife': (0.7407407407407405, 0.0, 1.0), 'spoon': (1.0, 0.5925925925925926, 0.0), 'bowl': (0.2962962962962963, 1.0, 0.0), 'banana': (1.0, 0.8888888888888888, 0.0), 'apple': (0.9629629629629628, 0.0, 1.0), 'sandwich': (0.44444444444444464, 1.0, 0.0), 'orange': (0.0, 0.07407407407407396, 1.0), 'broccoli': (1.0, 0.0, 0.22222222222222232), 'carrot': (1.0, 0.14814814814814814, 0.0), 'hot dog': (0.5185185185185186, 1.0, 0.0), 'pizza': (0.37037037037037024, 0.0, 1.0), 'donut': (1.0, 0.2962962962962963, 0.0), 'cake': (1.0, 0.07407407407407407, 0.0), 'chair': (1.0, 0.0, 0.8148148148148149), 'couch': (1.0, 0.9629629629629629, 0.0), 'potted plant': (1.0, 0.6666666666666666, 0.0), 'bed': (0.0, 1.0, 0.07407407407407396), 'dining table': (0.0, 1.0, 0.7407407407407405), 'toilet': (1.0, 0.0, 0.29629629629629584), 'tv': (0.22222222222222232, 0.0, 1.0), 'laptop': (0.0, 1.0, 0.2962962962962963), 'mouse': (1.0, 0.2222222222222222, 0.0), 'remote': (0.5925925925925926, 1.0, 0.0), 'keyboard': (0.44444444444444464, 0.0, 1.0), 'cell phone': (0.0, 0.8148148148148149, 1.0), 'microwave': (0.8148148148148149, 1.0, 0.0), 'oven': (1.0, 0.5185185185185185, 0.0), 'toaster': (0.518518518518519, 0.0, 1.0), 'sink': (0.0, 0.2962962962962967, 1.0), 'refrigerator': (1.0, 0.0, 0.666666666666667), 'book': (0.0, 1.0, 0.5185185185185182), 'clock': (1.0, 0.8148148148148148, 0.0), 'vase': (0.8888888888888888, 1.0, 0.0), 'scissors': (1.0, 0.0, 0.5925925925925926), 'teddy bear': (1.0, 0.0, 0.9629629629629637), 'hair drier': (1.0, 0.7407407407407407, 0.0), 'toothbrush': (1.0, 0.0, 0.37037037037037024)}\n"
     ]
    },
    {
     "name": "stderr",
     "output_type": "stream",
     "text": [
      "Using TensorFlow backend.\n"
     ]
    }
   ],
   "source": [
    "\"\"\"\n",
    "Based on the work of Waleed Abdulla (Matterport)\n",
    "Modified by github.com/GustavZ\n",
    "\"\"\"\n",
    "# python 2 compability\n",
    "from __future__ import absolute_import\n",
    "from __future__ import division\n",
    "from __future__ import print_function\n",
    "\n",
    "import os\n",
    "import sys\n",
    "import random\n",
    "import math\n",
    "import re\n",
    "import datetime\n",
    "import numpy as np\n",
    "import tensorflow as tf\n",
    "import matplotlib\n",
    "import matplotlib.pyplot as plt\n",
    "import matplotlib.patches as patches\n",
    "import skimage.io\n",
    "\n",
    "# Root directory of the project\n",
    "ROOT_DIR = os.path.abspath(\"../\")\n",
    "\n",
    "# Import Mask RCNN\n",
    "sys.path.append(ROOT_DIR)  # To find local version of the library\n",
    "from mmrcnn import utils\n",
    "from mmrcnn import visualize\n",
    "from mmrcnn.visualize import display_images\n",
    "import mmrcnn.model as modellib\n",
    "from mmrcnn.model import log\n",
    "\n",
    "%matplotlib inline \n",
    "\n",
    "# Directory of images to run detection on\n",
    "IMAGE_DIR = os.path.join(ROOT_DIR, \"data/coco/imgs/\")\n",
    "\n",
    "# Directory to save logs and trained model\n",
    "MODEL_DIR = os.path.join(ROOT_DIR, \"logs\")\n",
    "\n",
    "# Local path to trained weights file\n",
    "DEFAULT_WEIGHTS = os.path.join(ROOT_DIR, \"mobile_mask_rcnn_coco.h5\")"
   ]
  },
  {
   "cell_type": "markdown",
   "metadata": {},
   "source": [
    "## Configurations\n",
    "\n",
    "We'll be using a model trained on the MS-COCO dataset. The configurations of this model are in the ```CocoConfig``` class in ```coco.py```.\n",
    "\n",
    "For inferencing, modify the configurations a bit to fit the task. To do so, sub-class the ```CocoConfig``` class and override the attributes you need to change."
   ]
  },
  {
   "cell_type": "code",
   "execution_count": 2,
   "metadata": {},
   "outputs": [
    {
     "name": "stdout",
     "output_type": "stream",
     "text": [
      "\n",
      "Configurations:\n",
      "BACKBONE                       mobilenetv1\n",
      "BACKBONE_STRIDES               [4, 8, 16, 32, 64]\n",
      "BATCH_SIZE                     1\n",
      "BBOX_STD_DEV                   [0.1 0.1 0.2 0.2]\n",
      "DETECTION_MAX_INSTANCES        100\n",
      "DETECTION_MIN_CONFIDENCE       0.7\n",
      "DETECTION_NMS_THRESHOLD        0.3\n",
      "GPU_COUNT                      1\n",
      "GRADIENT_CLIP_NORM             5.0\n",
      "IMAGES_PER_GPU                 1\n",
      "IMAGE_MAX_DIM                  512\n",
      "IMAGE_META_SIZE                93\n",
      "IMAGE_MIN_DIM                  800\n",
      "IMAGE_MIN_SCALE                0\n",
      "IMAGE_RESIZE_MODE              square\n",
      "IMAGE_SHAPE                    [512 512   3]\n",
      "LEARNING_MOMENTUM              0.9\n",
      "LEARNING_RATE                  0.001\n",
      "LOSS_WEIGHTS                   {'rpn_class_loss': 1.0, 'rpn_bbox_loss': 1.0, 'mrcnn_class_loss': 1.0, 'mrcnn_bbox_loss': 1.0, 'mrcnn_mask_loss': 1.0}\n",
      "MASK_POOL_SIZE                 14\n",
      "MASK_SHAPE                     [28, 28]\n",
      "MAX_GT_INSTANCES               100\n",
      "MEAN_PIXEL                     [123.7 116.8 103.9]\n",
      "MINI_MASK_SHAPE                (56, 56)\n",
      "NAME                           512_coco\n",
      "NUM_CLASSES                    81\n",
      "POOL_SIZE                      7\n",
      "POST_NMS_ROIS_INFERENCE        100\n",
      "POST_NMS_ROIS_TRAINING         2000\n",
      "RES_FACTOR                     2\n",
      "ROI_POSITIVE_RATIO             0.33\n",
      "RPN_ANCHOR_RATIOS              [0.5, 1, 2]\n",
      "RPN_ANCHOR_SCALES              (16.0, 32.0, 64.0, 128.0, 256.0)\n",
      "RPN_ANCHOR_STRIDE              1\n",
      "RPN_BBOX_STD_DEV               [0.1 0.1 0.2 0.2]\n",
      "RPN_NMS_THRESHOLD              0.7\n",
      "RPN_TRAIN_ANCHORS_PER_IMAGE    256\n",
      "STEPS_PER_EPOCH                10000\n",
      "TRAIN_BN                       True\n",
      "TRAIN_ROIS_PER_IMAGE           200\n",
      "USE_MINI_MASK                  True\n",
      "USE_MULTIPROCESSING            True\n",
      "USE_RPN_ROIS                   True\n",
      "VALIDATION_STEPS               50\n",
      "WEIGHT_DECAY                   0.0001\n",
      "\n",
      "\n"
     ]
    }
   ],
   "source": [
    "# Override the training configurations with a few\n",
    "# changes for inferencing.\n",
    "import coco\n",
    "config = coco.CocoConfig()\n",
    "class InferenceConfig(config.__class__):\n",
    "    # Run detection on one image at a time\n",
    "    GPU_COUNT = 1\n",
    "    IMAGES_PER_GPU = 1\n",
    "    POST_NMS_ROIS_INFERENCE = 100\n",
    "\n",
    "config = InferenceConfig()\n",
    "config.display()"
   ]
  },
  {
   "cell_type": "markdown",
   "metadata": {},
   "source": [
    "## Create Model and Load Trained Weights"
   ]
  },
  {
   "cell_type": "code",
   "execution_count": 3,
   "metadata": {},
   "outputs": [],
   "source": [
    "# Device to load the neural network on.\n",
    "# Useful if you're training a model on the same \n",
    "# machine, in which case use CPU and leave the\n",
    "# GPU for training.\n",
    "#DEVICE = \"/cpu:0\"\n",
    "DEVICE = \"/gpu:0\"\n",
    "\n",
    "# Inspect the model in training or inference modes\n",
    "# values: 'inference' or 'training'\n",
    "# TODO: code for 'training' test mode not ready yet\n",
    "TEST_MODE = \"inference\"\n",
    "#TEST_MODE = \"training\""
   ]
  },
  {
   "cell_type": "code",
   "execution_count": 4,
   "metadata": {},
   "outputs": [
    {
     "name": "stderr",
     "output_type": "stream",
     "text": [
      "WARNING: Logging before flag parsing goes to stderr.\n",
      "W0922 18:36:45.080046 4605121984 deprecation_wrapper.py:119] From /Library/Frameworks/Python.framework/Versions/3.7/lib/python3.7/site-packages/keras/backend/tensorflow_backend.py:517: The name tf.placeholder is deprecated. Please use tf.compat.v1.placeholder instead.\n",
      "\n",
      "W0922 18:36:45.109448 4605121984 deprecation_wrapper.py:119] From /Library/Frameworks/Python.framework/Versions/3.7/lib/python3.7/site-packages/keras/backend/tensorflow_backend.py:4138: The name tf.random_uniform is deprecated. Please use tf.random.uniform instead.\n",
      "\n",
      "W0922 18:36:45.142796 4605121984 deprecation_wrapper.py:119] From /Library/Frameworks/Python.framework/Versions/3.7/lib/python3.7/site-packages/keras/backend/tensorflow_backend.py:245: The name tf.get_default_graph is deprecated. Please use tf.compat.v1.get_default_graph instead.\n",
      "\n",
      "W0922 18:36:45.144253 4605121984 deprecation_wrapper.py:119] From /Library/Frameworks/Python.framework/Versions/3.7/lib/python3.7/site-packages/keras/backend/tensorflow_backend.py:174: The name tf.get_default_session is deprecated. Please use tf.compat.v1.get_default_session instead.\n",
      "\n",
      "W0922 18:36:45.145200 4605121984 deprecation_wrapper.py:119] From /Library/Frameworks/Python.framework/Versions/3.7/lib/python3.7/site-packages/keras/backend/tensorflow_backend.py:181: The name tf.ConfigProto is deprecated. Please use tf.compat.v1.ConfigProto instead.\n",
      "\n",
      "W0922 18:36:45.177828 4605121984 deprecation_wrapper.py:119] From /Library/Frameworks/Python.framework/Versions/3.7/lib/python3.7/site-packages/keras/backend/tensorflow_backend.py:1834: The name tf.nn.fused_batch_norm is deprecated. Please use tf.compat.v1.nn.fused_batch_norm instead.\n",
      "\n",
      "W0922 18:36:48.877480 4605121984 deprecation_wrapper.py:119] From /Library/Frameworks/Python.framework/Versions/3.7/lib/python3.7/site-packages/keras/backend/tensorflow_backend.py:2018: The name tf.image.resize_nearest_neighbor is deprecated. Please use tf.compat.v1.image.resize_nearest_neighbor instead.\n",
      "\n",
      "W0922 18:36:49.134980 4605121984 deprecation_wrapper.py:119] From /Library/Frameworks/Python.framework/Versions/3.7/lib/python3.7/site-packages/keras/backend/tensorflow_backend.py:3976: The name tf.nn.max_pool is deprecated. Please use tf.nn.max_pool2d instead.\n",
      "\n",
      "W0922 18:36:49.890236 4605121984 deprecation.py:323] From /Users/kunalsinha/Desktop/Mobile_Mask_RCNN/mmrcnn/model.py:697: add_dispatch_support.<locals>.wrapper (from tensorflow.python.ops.array_ops) is deprecated and will be removed in a future version.\n",
      "Instructions for updating:\n",
      "Use tf.where in 2.0, which has the same broadcast rule as np.where\n",
      "W0922 18:36:49.899778 4605121984 deprecation.py:506] From /Users/kunalsinha/Desktop/Mobile_Mask_RCNN/mmrcnn/model.py:721: calling crop_and_resize_v1 (from tensorflow.python.ops.image_ops_impl) with box_ind is deprecated and will be removed in a future version.\n",
      "Instructions for updating:\n",
      "box_ind is deprecated, use box_indices instead\n",
      "W0922 18:36:50.633159 4605121984 deprecation_wrapper.py:119] From /Users/kunalsinha/Desktop/Mobile_Mask_RCNN/mmrcnn/model.py:1017: The name tf.sets.set_intersection is deprecated. Please use tf.sets.intersection instead.\n",
      "\n",
      "W0922 18:36:50.782303 4605121984 deprecation.py:323] From /Users/kunalsinha/Desktop/Mobile_Mask_RCNN/mmrcnn/model.py:1069: to_float (from tensorflow.python.ops.math_ops) is deprecated and will be removed in a future version.\n",
      "Instructions for updating:\n",
      "Use `tf.cast` instead.\n"
     ]
    },
    {
     "name": "stdout",
     "output_type": "stream",
     "text": [
      "Loading weights  /Users/kunalsinha/Desktop/Mobile_Mask_RCNN/mobile_mask_rcnn_coco.h5\n"
     ]
    }
   ],
   "source": [
    "# Create model in inference mode\n",
    "#with tf.device(DEVICE):\n",
    "model = modellib.MaskRCNN(mode=TEST_MODE, model_dir=MODEL_DIR,config=config)\n",
    "# Set path to model weights\n",
    "weights_path = DEFAULT_WEIGHTS\n",
    "#weights_path = model.find_last()[1]\n",
    "\n",
    "# Load weights\n",
    "print(\"Loading weights \", weights_path)\n",
    "model.load_weights(weights_path, by_name=True)"
   ]
  },
  {
   "cell_type": "markdown",
   "metadata": {},
   "source": [
    "## Class Names\n",
    "\n",
    "The model classifies objects and returns class IDs, which are integer value that identify each class. Some datasets assign integer values to their classes and some don't. For example, in the MS-COCO dataset, the 'person' class is 1 and 'teddy bear' is 88. The IDs are often sequential, but not always. The COCO dataset, for example, has classes associated with class IDs 70 and 72, but not 71.\n",
    "\n",
    "To improve consistency, and to support training on data from multiple sources at the same time, our ```Dataset``` class assigns it's own sequential integer IDs to each class. For example, if you load the COCO dataset using our ```Dataset``` class, the 'person' class would get class ID = 1 (just like COCO) and the 'teddy bear' class is 78 (different from COCO). Keep that in mind when mapping class IDs to class names.\n",
    "\n",
    "To get the list of class names, you'd load the dataset and then use the ```class_names``` property like this.\n",
    "```\n",
    "# Load COCO dataset\n",
    "dataset = coco.CocoDataset()\n",
    "dataset.load_coco(COCO_DIR, \"train\")\n",
    "dataset.prepare()\n",
    "\n",
    "# Print class names\n",
    "print(dataset.class_names)\n",
    "```\n",
    "\n",
    "We don't want to require you to download the COCO dataset just to run this demo, so we're including the list of class names below. The index of the class name in the list represent its ID (first class is 0, second is 1, third is 2, ...etc.)"
   ]
  },
  {
   "cell_type": "code",
   "execution_count": 5,
   "metadata": {},
   "outputs": [
    {
     "data": {
      "text/plain": [
       "81"
      ]
     },
     "execution_count": 5,
     "metadata": {},
     "output_type": "execute_result"
    }
   ],
   "source": [
    "# COCO Class names\n",
    "# Index of the class in the list is its ID. For example, to get ID of\n",
    "# the teddy bear class, use: class_names.index('teddy bear')\n",
    "class_names = ['BG', 'person', 'bicycle', 'car', 'motorcycle', 'airplane',\n",
    "               'bus', 'train', 'truck', 'boat', 'traffic light',\n",
    "               'fire hydrant', 'stop sign', 'parking meter', 'bench', 'bird',\n",
    "               'cat', 'dog', 'horse', 'sheep', 'cow', 'elephant', 'bear',\n",
    "               'zebra', 'giraffe', 'backpack', 'umbrella', 'handbag', 'tie',\n",
    "               'suitcase', 'frisbee', 'skis', 'snowboard', 'sports ball',\n",
    "               'kite', 'baseball bat', 'baseball glove', 'skateboard',\n",
    "               'surfboard', 'tennis racket', 'bottle', 'wine glass', 'cup',\n",
    "               'fork', 'knife', 'spoon', 'bowl', 'banana', 'apple',\n",
    "               'sandwich', 'orange', 'broccoli', 'carrot', 'hot dog', 'pizza',\n",
    "               'donut', 'cake', 'chair', 'couch', 'potted plant', 'bed',\n",
    "               'dining table', 'toilet', 'tv', 'laptop', 'mouse', 'remote',\n",
    "               'keyboard', 'cell phone', 'microwave', 'oven', 'toaster',\n",
    "               'sink', 'refrigerator', 'book', 'clock', 'vase', 'scissors',\n",
    "               'teddy bear', 'hair drier', 'toothbrush']\n",
    "len(class_names)"
   ]
  },
  {
   "cell_type": "markdown",
   "metadata": {},
   "source": [
    "## Run Object Detection"
   ]
  },
  {
   "cell_type": "code",
   "execution_count": 6,
   "metadata": {},
   "outputs": [
    {
     "name": "stdout",
     "output_type": "stream",
     "text": [
      "['0001TP_006750.png', '0001TP_006690.png', '0001TP_006720.png']\n"
     ]
    }
   ],
   "source": [
    "# Load random images from the images folder\n",
    "# NUM_IMAGES=3\n",
    "# images = []\n",
    "# file_names = next(os.walk(IMAGE_DIR))[2]\n",
    "# for i in range(NUM_IMAGES):\n",
    "#     # Read Image\n",
    "#     images.append(skimage.io.imread(os.path.join(IMAGE_DIR, random.choice(file_names))))\n",
    "import os\n",
    "NUM_IMAGES = 3\n",
    "images = []\n",
    "image_name_list = os.listdir(IMAGE_DIR)\n",
    "print(image_name_list)\n",
    "for i in image_name_list:\n",
    "    images.append(skimage.io.imread(os.path.join(IMAGE_DIR, i)))"
   ]
  },
  {
   "cell_type": "code",
   "execution_count": 7,
   "metadata": {},
   "outputs": [
    {
     "name": "stdout",
     "output_type": "stream",
     "text": [
      "Processing 1 images\n",
      "image                    shape: (360, 480, 3)         min:    0.00000  max:  255.00000  uint8\n",
      "molded_images            shape: (1, 512, 512, 3)      min:   -1.00000  max:    1.00000  float32\n",
      "image_metas              shape: (1, 93)               min:    0.00000  max:  512.00000  float64\n",
      "anchors                  shape: (1, 65472, 4)         min:   -0.35425  max:    1.22900  float32\n",
      "[(1.0, 0.0, 0.0), (1.0, 0.07407407407407407, 0.0), (1.0, 0.14814814814814814, 0.0), (1.0, 0.2222222222222222, 0.0), (1.0, 0.2962962962962963, 0.0), (1.0, 0.37037037037037035, 0.0), (1.0, 0.4444444444444444, 0.0), (1.0, 0.5185185185185185, 0.0), (1.0, 0.5925925925925926, 0.0), (1.0, 0.6666666666666666, 0.0), (1.0, 0.7407407407407407, 0.0), (1.0, 0.8148148148148148, 0.0), (1.0, 0.8888888888888888, 0.0), (1.0, 0.9629629629629629, 0.0), (0.962962962962963, 1.0, 0.0), (0.8888888888888888, 1.0, 0.0), (0.8148148148148149, 1.0, 0.0), (0.7407407407407409, 1.0, 0.0), (0.6666666666666667, 1.0, 0.0), (0.5925925925925926, 1.0, 0.0), (0.5185185185185186, 1.0, 0.0), (0.44444444444444464, 1.0, 0.0), (0.37037037037037046, 1.0, 0.0), (0.2962962962962963, 1.0, 0.0), (0.22222222222222232, 1.0, 0.0), (0.14814814814814836, 1.0, 0.0), (0.07407407407407418, 1.0, 0.0), (0.0, 1.0, 0.0), (0.0, 1.0, 0.07407407407407396), (0.0, 1.0, 0.14814814814814792), (0.0, 1.0, 0.22222222222222232), (0.0, 1.0, 0.2962962962962963), (0.0, 1.0, 0.37037037037037024), (0.0, 1.0, 0.4444444444444442), (0.0, 1.0, 0.5185185185185182), (0.0, 1.0, 0.5925925925925926), (0.0, 1.0, 0.6666666666666665), (0.0, 1.0, 0.7407407407407405), (0.0, 1.0, 0.8148148148148149), (0.0, 1.0, 0.8888888888888888), (0.0, 1.0, 0.9629629629629628), (0.0, 0.9629629629629628, 1.0), (0.0, 0.8888888888888893, 1.0), (0.0, 0.8148148148148149, 1.0), (0.0, 0.7407407407407409, 1.0), (0.0, 0.6666666666666665, 1.0), (0.0, 0.5925925925925926, 1.0), (0.0, 0.5185185185185182, 1.0), (0.0, 0.44444444444444464, 1.0), (0.0, 0.37037037037037024, 1.0), (0.0, 0.2962962962962967, 1.0), (0.0, 0.22222222222222232, 1.0), (0.0, 0.14814814814814836, 1.0), (0.0, 0.07407407407407396, 1.0), (0.0, 0.0, 1.0), (0.0740740740740744, 0.0, 1.0), (0.14814814814814792, 0.0, 1.0), (0.22222222222222232, 0.0, 1.0), (0.29629629629629584, 0.0, 1.0), (0.37037037037037024, 0.0, 1.0), (0.44444444444444464, 0.0, 1.0), (0.518518518518519, 0.0, 1.0), (0.5925925925925926, 0.0, 1.0), (0.666666666666667, 0.0, 1.0), (0.7407407407407405, 0.0, 1.0), (0.8148148148148149, 0.0, 1.0), (0.8888888888888884, 0.0, 1.0), (0.9629629629629628, 0.0, 1.0), (1.0, 0.0, 0.9629629629629637), (1.0, 0.0, 0.8888888888888893), (1.0, 0.0, 0.8148148148148149), (1.0, 0.0, 0.7407407407407405), (1.0, 0.0, 0.666666666666667), (1.0, 0.0, 0.5925925925925926), (1.0, 0.0, 0.518518518518519), (1.0, 0.0, 0.44444444444444464), (1.0, 0.0, 0.37037037037037024), (1.0, 0.0, 0.29629629629629584), (1.0, 0.0, 0.22222222222222232), (1.0, 0.0, 0.14814814814814792), (1.0, 0.0, 0.0740740740740744)]\n",
      "color dictionary {'BG': (1.0, 0.0, 0.8888888888888893), 'person': (0.0, 0.14814814814814836, 1.0), 'bicycle': (0.6666666666666667, 1.0, 0.0), 'car': (0.14814814814814836, 1.0, 0.0), 'motorcycle': (0.0, 1.0, 0.5185185185185182), 'airplane': (0.0, 1.0, 0.5925925925925926), 'bus': (0.0, 1.0, 0.14814814814814792), 'train': (1.0, 0.8148148148148148, 0.0), 'truck': (1.0, 0.0, 0.9629629629629637), 'boat': (0.0, 1.0, 0.2962962962962963), 'traffic light': (1.0, 0.0, 0.8148148148148149), 'fire hydrant': (0.44444444444444464, 1.0, 0.0), 'stop sign': (0.0, 1.0, 0.9629629629629628), 'parking meter': (1.0, 0.9629629629629629, 0.0), 'bench': (0.0, 0.5185185185185182, 1.0), 'bird': (0.0, 1.0, 0.4444444444444442), 'cat': (0.8888888888888888, 1.0, 0.0), 'dog': (0.37037037037037024, 0.0, 1.0), 'horse': (1.0, 0.5185185185185185, 0.0), 'sheep': (0.0, 1.0, 0.37037037037037024), 'cow': (0.0, 0.22222222222222232, 1.0), 'elephant': (0.0, 0.5925925925925926, 1.0), 'bear': (1.0, 0.6666666666666666, 0.0), 'zebra': (0.0, 0.37037037037037024, 1.0), 'giraffe': (0.0, 0.7407407407407409, 1.0), 'backpack': (0.0, 0.6666666666666665, 1.0), 'umbrella': (0.14814814814814792, 0.0, 1.0), 'handbag': (0.8888888888888884, 0.0, 1.0), 'tie': (0.5925925925925926, 0.0, 1.0), 'suitcase': (0.0, 0.8148148148148149, 1.0), 'frisbee': (1.0, 0.5925925925925926, 0.0), 'skis': (1.0, 0.0, 0.29629629629629584), 'snowboard': (0.5925925925925926, 1.0, 0.0), 'sports ball': (1.0, 0.0, 0.666666666666667), 'kite': (0.0, 0.2962962962962967, 1.0), 'baseball bat': (1.0, 0.37037037037037035, 0.0), 'baseball glove': (1.0, 0.2962962962962963, 0.0), 'skateboard': (0.22222222222222232, 1.0, 0.0), 'surfboard': (0.0, 1.0, 0.0), 'tennis racket': (0.8148148148148149, 1.0, 0.0), 'bottle': (0.0, 0.44444444444444464, 1.0), 'wine glass': (1.0, 0.7407407407407407, 0.0), 'cup': (0.0, 1.0, 0.6666666666666665), 'fork': (0.7407407407407409, 1.0, 0.0), 'knife': (0.666666666666667, 0.0, 1.0), 'spoon': (0.0, 0.07407407407407396, 1.0), 'bowl': (1.0, 0.4444444444444444, 0.0), 'banana': (0.0, 0.0, 1.0), 'apple': (0.44444444444444464, 0.0, 1.0), 'sandwich': (1.0, 0.2222222222222222, 0.0), 'orange': (1.0, 0.0, 0.5925925925925926), 'broccoli': (0.8148148148148149, 0.0, 1.0), 'carrot': (1.0, 0.0, 0.37037037037037024), 'hot dog': (0.7407407407407405, 0.0, 1.0), 'pizza': (0.0, 1.0, 0.8888888888888888), 'donut': (0.518518518518519, 0.0, 1.0), 'cake': (0.37037037037037046, 1.0, 0.0), 'chair': (1.0, 0.14814814814814814, 0.0), 'couch': (0.0, 1.0, 0.8148148148148149), 'potted plant': (0.0, 1.0, 0.07407407407407396), 'bed': (0.2962962962962963, 1.0, 0.0), 'dining table': (0.0740740740740744, 0.0, 1.0), 'toilet': (0.9629629629629628, 0.0, 1.0), 'tv': (1.0, 0.0, 0.14814814814814792), 'laptop': (0.0, 0.9629629629629628, 1.0), 'mouse': (1.0, 0.0, 0.44444444444444464), 'remote': (1.0, 0.0, 0.0740740740740744), 'keyboard': (1.0, 0.0, 0.0), 'cell phone': (1.0, 0.0, 0.518518518518519), 'microwave': (0.29629629629629584, 0.0, 1.0), 'oven': (0.962962962962963, 1.0, 0.0), 'toaster': (0.0, 1.0, 0.7407407407407405), 'sink': (1.0, 0.8888888888888888, 0.0), 'refrigerator': (0.0, 1.0, 0.22222222222222232), 'book': (1.0, 0.0, 0.7407407407407405), 'clock': (0.22222222222222232, 0.0, 1.0), 'vase': (0.5185185185185186, 1.0, 0.0), 'scissors': (1.0, 0.0, 0.22222222222222232), 'teddy bear': (0.07407407407407418, 1.0, 0.0), 'hair drier': (1.0, 0.07407407407407407, 0.0), 'toothbrush': (0.0, 0.8888888888888893, 1.0)}\n"
     ]
    },
    {
     "data": {
      "image/png": "[encoded data removed]",
      "text/plain": [
       "<Figure size 1152x1152 with 1 Axes>"
      ]
     },
     "metadata": {
      "needs_background": "light"
     },
     "output_type": "display_data"
    },
    {
     "name": "stdout",
     "output_type": "stream",
     "text": [
      "elapsed time for detection: 1.930857s\n",
      "{'rois': array([[206, 191, 292, 269],\n",
      "       [ 12,  77, 118, 115],\n",
      "       [210, 154, 259, 168],\n",
      "       [215, 167, 261, 183],\n",
      "       [142, 267, 276, 379]], dtype=int32), 'class_ids': array([ 3, 10,  1,  1,  6], dtype=int32), 'scores': array([0.9789929 , 0.91704303, 0.718218  , 0.70833194, 0.70616454],\n",
      "      dtype=float32), 'masks': array([[[False, False, False, False, False],\n",
      "        [False, False, False, False, False],\n",
      "        [False, False, False, False, False],\n",
      "        ...,\n",
      "        [False, False, False, False, False],\n",
      "        [False, False, False, False, False],\n",
      "        [False, False, False, False, False]],\n",
      "\n",
      "       [[False, False, False, False, False],\n",
      "        [False, False, False, False, False],\n",
      "        [False, False, False, False, False],\n",
      "        ...,\n",
      "        [False, False, False, False, False],\n",
      "        [False, False, False, False, False],\n",
      "        [False, False, False, False, False]],\n",
      "\n",
      "       [[False, False, False, False, False],\n",
      "        [False, False, False, False, False],\n",
      "        [False, False, False, False, False],\n",
      "        ...,\n",
      "        [False, False, False, False, False],\n",
      "        [False, False, False, False, False],\n",
      "        [False, False, False, False, False]],\n",
      "\n",
      "       ...,\n",
      "\n",
      "       [[False, False, False, False, False],\n",
      "        [False, False, False, False, False],\n",
      "        [False, False, False, False, False],\n",
      "        ...,\n",
      "        [False, False, False, False, False],\n",
      "        [False, False, False, False, False],\n",
      "        [False, False, False, False, False]],\n",
      "\n",
      "       [[False, False, False, False, False],\n",
      "        [False, False, False, False, False],\n",
      "        [False, False, False, False, False],\n",
      "        ...,\n",
      "        [False, False, False, False, False],\n",
      "        [False, False, False, False, False],\n",
      "        [False, False, False, False, False]],\n",
      "\n",
      "       [[False, False, False, False, False],\n",
      "        [False, False, False, False, False],\n",
      "        [False, False, False, False, False],\n",
      "        ...,\n",
      "        [False, False, False, False, False],\n",
      "        [False, False, False, False, False],\n",
      "        [False, False, False, False, False]]])}\n",
      "Processing 1 images\n",
      "image                    shape: (360, 480, 3)         min:    0.00000  max:  255.00000  uint8\n",
      "molded_images            shape: (1, 512, 512, 3)      min:   -1.00000  max:    1.00000  float32\n",
      "image_metas              shape: (1, 93)               min:    0.00000  max:  512.00000  float64\n",
      "anchors                  shape: (1, 65472, 4)         min:   -0.35425  max:    1.22900  float32\n",
      "[(1.0, 0.0, 0.0), (1.0, 0.07407407407407407, 0.0), (1.0, 0.14814814814814814, 0.0), (1.0, 0.2222222222222222, 0.0), (1.0, 0.2962962962962963, 0.0), (1.0, 0.37037037037037035, 0.0), (1.0, 0.4444444444444444, 0.0), (1.0, 0.5185185185185185, 0.0), (1.0, 0.5925925925925926, 0.0), (1.0, 0.6666666666666666, 0.0), (1.0, 0.7407407407407407, 0.0), (1.0, 0.8148148148148148, 0.0), (1.0, 0.8888888888888888, 0.0), (1.0, 0.9629629629629629, 0.0), (0.962962962962963, 1.0, 0.0), (0.8888888888888888, 1.0, 0.0), (0.8148148148148149, 1.0, 0.0), (0.7407407407407409, 1.0, 0.0), (0.6666666666666667, 1.0, 0.0), (0.5925925925925926, 1.0, 0.0), (0.5185185185185186, 1.0, 0.0), (0.44444444444444464, 1.0, 0.0), (0.37037037037037046, 1.0, 0.0), (0.2962962962962963, 1.0, 0.0), (0.22222222222222232, 1.0, 0.0), (0.14814814814814836, 1.0, 0.0), (0.07407407407407418, 1.0, 0.0), (0.0, 1.0, 0.0), (0.0, 1.0, 0.07407407407407396), (0.0, 1.0, 0.14814814814814792), (0.0, 1.0, 0.22222222222222232), (0.0, 1.0, 0.2962962962962963), (0.0, 1.0, 0.37037037037037024), (0.0, 1.0, 0.4444444444444442), (0.0, 1.0, 0.5185185185185182), (0.0, 1.0, 0.5925925925925926), (0.0, 1.0, 0.6666666666666665), (0.0, 1.0, 0.7407407407407405), (0.0, 1.0, 0.8148148148148149), (0.0, 1.0, 0.8888888888888888), (0.0, 1.0, 0.9629629629629628), (0.0, 0.9629629629629628, 1.0), (0.0, 0.8888888888888893, 1.0), (0.0, 0.8148148148148149, 1.0), (0.0, 0.7407407407407409, 1.0), (0.0, 0.6666666666666665, 1.0), (0.0, 0.5925925925925926, 1.0), (0.0, 0.5185185185185182, 1.0), (0.0, 0.44444444444444464, 1.0), (0.0, 0.37037037037037024, 1.0), (0.0, 0.2962962962962967, 1.0), (0.0, 0.22222222222222232, 1.0), (0.0, 0.14814814814814836, 1.0), (0.0, 0.07407407407407396, 1.0), (0.0, 0.0, 1.0), (0.0740740740740744, 0.0, 1.0), (0.14814814814814792, 0.0, 1.0), (0.22222222222222232, 0.0, 1.0), (0.29629629629629584, 0.0, 1.0), (0.37037037037037024, 0.0, 1.0), (0.44444444444444464, 0.0, 1.0), (0.518518518518519, 0.0, 1.0), (0.5925925925925926, 0.0, 1.0), (0.666666666666667, 0.0, 1.0), (0.7407407407407405, 0.0, 1.0), (0.8148148148148149, 0.0, 1.0), (0.8888888888888884, 0.0, 1.0), (0.9629629629629628, 0.0, 1.0), (1.0, 0.0, 0.9629629629629637), (1.0, 0.0, 0.8888888888888893), (1.0, 0.0, 0.8148148148148149), (1.0, 0.0, 0.7407407407407405), (1.0, 0.0, 0.666666666666667), (1.0, 0.0, 0.5925925925925926), (1.0, 0.0, 0.518518518518519), (1.0, 0.0, 0.44444444444444464), (1.0, 0.0, 0.37037037037037024), (1.0, 0.0, 0.29629629629629584), (1.0, 0.0, 0.22222222222222232), (1.0, 0.0, 0.14814814814814792), (1.0, 0.0, 0.0740740740740744)]\n",
      "color dictionary {'BG': (1.0, 0.0, 0.8888888888888893), 'person': (1.0, 0.6666666666666666, 0.0), 'bicycle': (1.0, 0.0, 0.37037037037037024), 'car': (0.8888888888888888, 1.0, 0.0), 'motorcycle': (0.44444444444444464, 0.0, 1.0), 'airplane': (1.0, 0.5925925925925926, 0.0), 'bus': (0.0, 1.0, 0.5185185185185182), 'train': (0.2962962962962963, 1.0, 0.0), 'truck': (1.0, 0.0, 0.44444444444444464), 'boat': (0.518518518518519, 0.0, 1.0), 'traffic light': (0.0, 0.2962962962962967, 1.0), 'fire hydrant': (1.0, 0.9629629629629629, 0.0), 'stop sign': (1.0, 0.8148148148148148, 0.0), 'parking meter': (0.6666666666666667, 1.0, 0.0), 'bench': (1.0, 0.4444444444444444, 0.0), 'bird': (1.0, 0.0, 0.7407407407407405), 'cat': (0.0, 1.0, 0.0), 'dog': (0.37037037037037024, 0.0, 1.0), 'horse': (0.0, 0.0, 1.0), 'sheep': (1.0, 0.8888888888888888, 0.0), 'cow': (0.0, 1.0, 0.6666666666666665), 'elephant': (0.0, 1.0, 0.9629629629629628), 'bear': (0.22222222222222232, 0.0, 1.0), 'zebra': (0.0, 0.6666666666666665, 1.0), 'giraffe': (0.0, 0.7407407407407409, 1.0), 'backpack': (0.0740740740740744, 0.0, 1.0), 'umbrella': (1.0, 0.2222222222222222, 0.0), 'handbag': (0.0, 0.22222222222222232, 1.0), 'tie': (0.37037037037037046, 1.0, 0.0), 'suitcase': (1.0, 0.14814814814814814, 0.0), 'frisbee': (0.5185185185185186, 1.0, 0.0), 'skis': (0.0, 1.0, 0.5925925925925926), 'snowboard': (0.0, 0.37037037037037024, 1.0), 'sports ball': (0.14814814814814836, 1.0, 0.0), 'kite': (0.7407407407407409, 1.0, 0.0), 'baseball bat': (0.0, 1.0, 0.4444444444444442), 'baseball glove': (0.8888888888888884, 0.0, 1.0), 'skateboard': (0.29629629629629584, 0.0, 1.0), 'surfboard': (1.0, 0.0, 0.9629629629629637), 'tennis racket': (0.0, 1.0, 0.37037037037037024), 'bottle': (0.0, 0.07407407407407396, 1.0), 'wine glass': (0.962962962962963, 1.0, 0.0), 'cup': (0.0, 0.9629629629629628, 1.0), 'fork': (0.9629629629629628, 0.0, 1.0), 'knife': (1.0, 0.37037037037037035, 0.0), 'spoon': (0.5925925925925926, 1.0, 0.0), 'bowl': (1.0, 0.0, 0.22222222222222232), 'banana': (0.0, 0.14814814814814836, 1.0), 'apple': (0.0, 1.0, 0.8148148148148149), 'sandwich': (0.44444444444444464, 1.0, 0.0), 'orange': (0.0, 1.0, 0.07407407407407396), 'broccoli': (0.8148148148148149, 0.0, 1.0), 'carrot': (0.0, 0.44444444444444464, 1.0), 'hot dog': (1.0, 0.0, 0.0), 'pizza': (1.0, 0.2962962962962963, 0.0), 'donut': (0.22222222222222232, 1.0, 0.0), 'cake': (1.0, 0.0, 0.518518518518519), 'chair': (0.0, 1.0, 0.22222222222222232), 'couch': (1.0, 0.7407407407407407, 0.0), 'potted plant': (0.8148148148148149, 1.0, 0.0), 'bed': (1.0, 0.5185185185185185, 0.0), 'dining table': (0.0, 0.8148148148148149, 1.0), 'toilet': (1.0, 0.0, 0.14814814814814792), 'tv': (1.0, 0.0, 0.5925925925925926), 'laptop': (0.14814814814814792, 0.0, 1.0), 'mouse': (0.0, 0.5925925925925926, 1.0), 'remote': (0.7407407407407405, 0.0, 1.0), 'keyboard': (1.0, 0.0, 0.666666666666667), 'cell phone': (0.5925925925925926, 0.0, 1.0), 'microwave': (0.666666666666667, 0.0, 1.0), 'oven': (1.0, 0.0, 0.29629629629629584), 'toaster': (0.0, 1.0, 0.14814814814814792), 'sink': (0.0, 1.0, 0.8888888888888888), 'refrigerator': (0.0, 1.0, 0.7407407407407405), 'book': (0.07407407407407418, 1.0, 0.0), 'clock': (0.0, 1.0, 0.2962962962962963), 'vase': (0.0, 0.5185185185185182, 1.0), 'scissors': (1.0, 0.0, 0.8148148148148149), 'teddy bear': (1.0, 0.0, 0.0740740740740744), 'hair drier': (1.0, 0.07407407407407407, 0.0), 'toothbrush': (0.0, 0.8888888888888893, 1.0)}\n"
     ]
    },
    {
     "data": {
      "image/png": "[encoded data removed]",
      "text/plain": [
       "<Figure size 1152x1152 with 1 Axes>"
      ]
     },
     "metadata": {
      "needs_background": "light"
     },
     "output_type": "display_data"
    },
    {
     "name": "stdout",
     "output_type": "stream",
     "text": [
      "elapsed time for detection: 1.143443s\n",
      "{'rois': array([[205, 153, 256, 169],\n",
      "       [195, 175, 343, 295],\n",
      "       [214, 171, 245, 180]], dtype=int32), 'class_ids': array([1, 3, 1], dtype=int32), 'scores': array([0.95149326, 0.782048  , 0.71951634], dtype=float32), 'masks': array([[[False, False, False],\n",
      "        [False, False, False],\n",
      "        [False, False, False],\n",
      "        ...,\n",
      "        [False, False, False],\n",
      "        [False, False, False],\n",
      "        [False, False, False]],\n",
      "\n",
      "       [[False, False, False],\n",
      "        [False, False, False],\n",
      "        [False, False, False],\n",
      "        ...,\n",
      "        [False, False, False],\n",
      "        [False, False, False],\n",
      "        [False, False, False]],\n",
      "\n",
      "       [[False, False, False],\n",
      "        [False, False, False],\n",
      "        [False, False, False],\n",
      "        ...,\n",
      "        [False, False, False],\n",
      "        [False, False, False],\n",
      "        [False, False, False]],\n",
      "\n",
      "       ...,\n",
      "\n",
      "       [[False, False, False],\n",
      "        [False, False, False],\n",
      "        [False, False, False],\n",
      "        ...,\n",
      "        [False, False, False],\n",
      "        [False, False, False],\n",
      "        [False, False, False]],\n",
      "\n",
      "       [[False, False, False],\n",
      "        [False, False, False],\n",
      "        [False, False, False],\n",
      "        ...,\n",
      "        [False, False, False],\n",
      "        [False, False, False],\n",
      "        [False, False, False]],\n",
      "\n",
      "       [[False, False, False],\n",
      "        [False, False, False],\n",
      "        [False, False, False],\n",
      "        ...,\n",
      "        [False, False, False],\n",
      "        [False, False, False],\n",
      "        [False, False, False]]])}\n",
      "Processing 1 images\n",
      "image                    shape: (360, 480, 3)         min:    0.00000  max:  255.00000  uint8\n",
      "molded_images            shape: (1, 512, 512, 3)      min:   -1.00000  max:    1.00000  float32\n",
      "image_metas              shape: (1, 93)               min:    0.00000  max:  512.00000  float64\n",
      "anchors                  shape: (1, 65472, 4)         min:   -0.35425  max:    1.22900  float32\n",
      "[(1.0, 0.0, 0.0), (1.0, 0.07407407407407407, 0.0), (1.0, 0.14814814814814814, 0.0), (1.0, 0.2222222222222222, 0.0), (1.0, 0.2962962962962963, 0.0), (1.0, 0.37037037037037035, 0.0), (1.0, 0.4444444444444444, 0.0), (1.0, 0.5185185185185185, 0.0), (1.0, 0.5925925925925926, 0.0), (1.0, 0.6666666666666666, 0.0), (1.0, 0.7407407407407407, 0.0), (1.0, 0.8148148148148148, 0.0), (1.0, 0.8888888888888888, 0.0), (1.0, 0.9629629629629629, 0.0), (0.962962962962963, 1.0, 0.0), (0.8888888888888888, 1.0, 0.0), (0.8148148148148149, 1.0, 0.0), (0.7407407407407409, 1.0, 0.0), (0.6666666666666667, 1.0, 0.0), (0.5925925925925926, 1.0, 0.0), (0.5185185185185186, 1.0, 0.0), (0.44444444444444464, 1.0, 0.0), (0.37037037037037046, 1.0, 0.0), (0.2962962962962963, 1.0, 0.0), (0.22222222222222232, 1.0, 0.0), (0.14814814814814836, 1.0, 0.0), (0.07407407407407418, 1.0, 0.0), (0.0, 1.0, 0.0), (0.0, 1.0, 0.07407407407407396), (0.0, 1.0, 0.14814814814814792), (0.0, 1.0, 0.22222222222222232), (0.0, 1.0, 0.2962962962962963), (0.0, 1.0, 0.37037037037037024), (0.0, 1.0, 0.4444444444444442), (0.0, 1.0, 0.5185185185185182), (0.0, 1.0, 0.5925925925925926), (0.0, 1.0, 0.6666666666666665), (0.0, 1.0, 0.7407407407407405), (0.0, 1.0, 0.8148148148148149), (0.0, 1.0, 0.8888888888888888), (0.0, 1.0, 0.9629629629629628), (0.0, 0.9629629629629628, 1.0), (0.0, 0.8888888888888893, 1.0), (0.0, 0.8148148148148149, 1.0), (0.0, 0.7407407407407409, 1.0), (0.0, 0.6666666666666665, 1.0), (0.0, 0.5925925925925926, 1.0), (0.0, 0.5185185185185182, 1.0), (0.0, 0.44444444444444464, 1.0), (0.0, 0.37037037037037024, 1.0), (0.0, 0.2962962962962967, 1.0), (0.0, 0.22222222222222232, 1.0), (0.0, 0.14814814814814836, 1.0), (0.0, 0.07407407407407396, 1.0), (0.0, 0.0, 1.0), (0.0740740740740744, 0.0, 1.0), (0.14814814814814792, 0.0, 1.0), (0.22222222222222232, 0.0, 1.0), (0.29629629629629584, 0.0, 1.0), (0.37037037037037024, 0.0, 1.0), (0.44444444444444464, 0.0, 1.0), (0.518518518518519, 0.0, 1.0), (0.5925925925925926, 0.0, 1.0), (0.666666666666667, 0.0, 1.0), (0.7407407407407405, 0.0, 1.0), (0.8148148148148149, 0.0, 1.0), (0.8888888888888884, 0.0, 1.0), (0.9629629629629628, 0.0, 1.0), (1.0, 0.0, 0.9629629629629637), (1.0, 0.0, 0.8888888888888893), (1.0, 0.0, 0.8148148148148149), (1.0, 0.0, 0.7407407407407405), (1.0, 0.0, 0.666666666666667), (1.0, 0.0, 0.5925925925925926), (1.0, 0.0, 0.518518518518519), (1.0, 0.0, 0.44444444444444464), (1.0, 0.0, 0.37037037037037024), (1.0, 0.0, 0.29629629629629584), (1.0, 0.0, 0.22222222222222232), (1.0, 0.0, 0.14814814814814792), (1.0, 0.0, 0.0740740740740744)]\n",
      "color dictionary {'BG': (0.0740740740740744, 0.0, 1.0), 'person': (0.0, 0.9629629629629628, 1.0), 'bicycle': (0.666666666666667, 0.0, 1.0), 'car': (1.0, 0.4444444444444444, 0.0), 'motorcycle': (0.8148148148148149, 0.0, 1.0), 'airplane': (0.0, 1.0, 0.4444444444444442), 'bus': (1.0, 0.0, 0.8888888888888893), 'train': (0.5185185185185186, 1.0, 0.0), 'truck': (1.0, 0.0, 0.37037037037037024), 'boat': (0.0, 0.5185185185185182, 1.0), 'traffic light': (1.0, 0.0, 0.5925925925925926), 'fire hydrant': (0.0, 0.07407407407407396, 1.0), 'stop sign': (1.0, 0.2222222222222222, 0.0), 'parking meter': (1.0, 0.0, 0.0), 'bench': (0.0, 0.22222222222222232, 1.0), 'bird': (1.0, 0.7407407407407407, 0.0), 'cat': (0.14814814814814792, 0.0, 1.0), 'dog': (1.0, 0.0, 0.44444444444444464), 'horse': (0.0, 0.2962962962962967, 1.0), 'sheep': (1.0, 0.8888888888888888, 0.0), 'cow': (0.5925925925925926, 0.0, 1.0), 'elephant': (0.0, 1.0, 0.8148148148148149), 'bear': (0.0, 1.0, 0.2962962962962963), 'zebra': (0.0, 1.0, 0.07407407407407396), 'giraffe': (1.0, 0.0, 0.518518518518519), 'backpack': (0.0, 0.44444444444444464, 1.0), 'umbrella': (1.0, 0.5185185185185185, 0.0), 'handbag': (1.0, 0.0, 0.14814814814814792), 'tie': (1.0, 0.0, 0.9629629629629637), 'suitcase': (0.0, 0.5925925925925926, 1.0), 'frisbee': (1.0, 0.0, 0.0740740740740744), 'skis': (0.0, 0.14814814814814836, 1.0), 'snowboard': (0.0, 1.0, 0.14814814814814792), 'sports ball': (0.0, 1.0, 0.0), 'kite': (0.0, 1.0, 0.7407407407407405), 'baseball bat': (0.7407407407407405, 0.0, 1.0), 'baseball glove': (0.0, 0.37037037037037024, 1.0), 'skateboard': (0.0, 0.6666666666666665, 1.0), 'surfboard': (1.0, 0.2962962962962963, 0.0), 'tennis racket': (0.44444444444444464, 0.0, 1.0), 'bottle': (0.44444444444444464, 1.0, 0.0), 'wine glass': (1.0, 0.5925925925925926, 0.0), 'cup': (0.0, 1.0, 0.22222222222222232), 'fork': (0.29629629629629584, 0.0, 1.0), 'knife': (0.0, 1.0, 0.37037037037037024), 'spoon': (1.0, 0.07407407407407407, 0.0), 'bowl': (0.22222222222222232, 0.0, 1.0), 'banana': (1.0, 0.14814814814814814, 0.0), 'apple': (1.0, 0.0, 0.29629629629629584), 'sandwich': (0.14814814814814836, 1.0, 0.0), 'orange': (0.37037037037037046, 1.0, 0.0), 'broccoli': (0.0, 1.0, 0.8888888888888888), 'carrot': (0.9629629629629628, 0.0, 1.0), 'hot dog': (0.0, 0.8148148148148149, 1.0), 'pizza': (0.0, 0.8888888888888893, 1.0), 'donut': (0.7407407407407409, 1.0, 0.0), 'cake': (1.0, 0.37037037037037035, 0.0), 'chair': (1.0, 0.9629629629629629, 0.0), 'couch': (1.0, 0.0, 0.666666666666667), 'potted plant': (0.0, 1.0, 0.9629629629629628), 'bed': (0.8148148148148149, 1.0, 0.0), 'dining table': (0.0, 0.0, 1.0), 'toilet': (0.0, 0.7407407407407409, 1.0), 'tv': (0.518518518518519, 0.0, 1.0), 'laptop': (0.0, 1.0, 0.5185185185185182), 'mouse': (1.0, 0.0, 0.7407407407407405), 'remote': (0.962962962962963, 1.0, 0.0), 'keyboard': (1.0, 0.6666666666666666, 0.0), 'cell phone': (0.0, 1.0, 0.5925925925925926), 'microwave': (0.5925925925925926, 1.0, 0.0), 'oven': (0.0, 1.0, 0.6666666666666665), 'toaster': (1.0, 0.8148148148148148, 0.0), 'sink': (0.8888888888888884, 0.0, 1.0), 'refrigerator': (0.2962962962962963, 1.0, 0.0), 'book': (0.22222222222222232, 1.0, 0.0), 'clock': (0.07407407407407418, 1.0, 0.0), 'vase': (0.6666666666666667, 1.0, 0.0), 'scissors': (1.0, 0.0, 0.22222222222222232), 'teddy bear': (0.8888888888888888, 1.0, 0.0), 'hair drier': (1.0, 0.0, 0.8148148148148149), 'toothbrush': (0.37037037037037024, 0.0, 1.0)}\n"
     ]
    },
    {
     "data": {
      "image/png": "[encoded data removed]",
      "text/plain": [
       "<Figure size 1152x1152 with 1 Axes>"
      ]
     },
     "metadata": {
      "needs_background": "light"
     },
     "output_type": "display_data"
    },
    {
     "name": "stdout",
     "output_type": "stream",
     "text": [
      "elapsed time for detection: 0.921877s\n",
      "{'rois': array([[208, 153, 257, 167],\n",
      "       [218, 174, 256, 184],\n",
      "       [215, 169, 251, 178],\n",
      "       [206, 187, 299, 268],\n",
      "       [139, 264, 278, 369]], dtype=int32), 'class_ids': array([1, 1, 1, 3, 6], dtype=int32), 'scores': array([0.9658469 , 0.8999144 , 0.8930365 , 0.7541104 , 0.73230135],\n",
      "      dtype=float32), 'masks': array([[[False, False, False, False, False],\n",
      "        [False, False, False, False, False],\n",
      "        [False, False, False, False, False],\n",
      "        ...,\n",
      "        [False, False, False, False, False],\n",
      "        [False, False, False, False, False],\n",
      "        [False, False, False, False, False]],\n",
      "\n",
      "       [[False, False, False, False, False],\n",
      "        [False, False, False, False, False],\n",
      "        [False, False, False, False, False],\n",
      "        ...,\n",
      "        [False, False, False, False, False],\n",
      "        [False, False, False, False, False],\n",
      "        [False, False, False, False, False]],\n",
      "\n",
      "       [[False, False, False, False, False],\n",
      "        [False, False, False, False, False],\n",
      "        [False, False, False, False, False],\n",
      "        ...,\n",
      "        [False, False, False, False, False],\n",
      "        [False, False, False, False, False],\n",
      "        [False, False, False, False, False]],\n",
      "\n",
      "       ...,\n",
      "\n",
      "       [[False, False, False, False, False],\n",
      "        [False, False, False, False, False],\n",
      "        [False, False, False, False, False],\n",
      "        ...,\n",
      "        [False, False, False, False, False],\n",
      "        [False, False, False, False, False],\n",
      "        [False, False, False, False, False]],\n",
      "\n",
      "       [[False, False, False, False, False],\n",
      "        [False, False, False, False, False],\n",
      "        [False, False, False, False, False],\n",
      "        ...,\n",
      "        [False, False, False, False, False],\n",
      "        [False, False, False, False, False],\n",
      "        [False, False, False, False, False]],\n",
      "\n",
      "       [[False, False, False, False, False],\n",
      "        [False, False, False, False, False],\n",
      "        [False, False, False, False, False],\n",
      "        ...,\n",
      "        [False, False, False, False, False],\n",
      "        [False, False, False, False, False],\n",
      "        [False, False, False, False, False]]])}\n",
      "CPU times: user 24 s, sys: 4.37 s, total: 28.4 s\n",
      "Wall time: 6.17 s\n"
     ]
    }
   ],
   "source": [
    "%%time\n",
    "# Detection\n",
    "times = []\n",
    "counter = 0\n",
    "\n",
    "\n",
    "for image in images:\n",
    "    # Run detection\n",
    "    start = datetime.datetime.now()\n",
    "    results = model.detect([image], verbose=1)\n",
    "    stop = datetime.datetime.now()\n",
    "    t = (stop-start).total_seconds()\n",
    "    times.append(t)\n",
    "    # Visualize results\n",
    "    r = results[0]\n",
    "    visualize.display_instances(image, r['rois'], r['masks'], r['class_ids'], \n",
    "                                class_names, counter, r['scores'])\n",
    "    counter = counter+1\n",
    "    print(\"elapsed time for detection: {}s\".format(t))\n",
    "    print(r)\n",
    "    \n",
    "    #display_images(images)\n",
    "#print(\"median FPS: {}\".format(1./np.median(times)))"
   ]
  },
  {
   "cell_type": "code",
   "execution_count": 8,
   "metadata": {},
   "outputs": [
    {
     "name": "stdout",
     "output_type": "stream",
     "text": [
      "median FPS: 1.0679744369638768\n",
      "0.936352\n"
     ]
    }
   ],
   "source": [
    "print(\"median FPS: {}\".format(1./np.median(times)))\n",
    "print(np.median(times))\n"
   ]
  },
  {
   "cell_type": "code",
   "execution_count": 9,
   "metadata": {},
   "outputs": [
    {
     "ename": "ModuleNotFoundError",
     "evalue": "No module named 'mrcnn'",
     "output_type": "error",
     "traceback": [
      "\u001b[0;31m---------------------------------------------------------------------------\u001b[0m",
      "\u001b[0;31mModuleNotFoundError\u001b[0m                       Traceback (most recent call last)",
      "\u001b[0;32m<ipython-input-9-050d2ebc6dc3>\u001b[0m in \u001b[0;36m<module>\u001b[0;34m\u001b[0m\n\u001b[1;32m      2\u001b[0m \u001b[0;32mimport\u001b[0m \u001b[0mcv2\u001b[0m\u001b[0;34m\u001b[0m\u001b[0;34m\u001b[0m\u001b[0m\n\u001b[1;32m      3\u001b[0m \u001b[0;32mimport\u001b[0m \u001b[0mtime\u001b[0m\u001b[0;34m\u001b[0m\u001b[0;34m\u001b[0m\u001b[0m\n\u001b[0;32m----> 4\u001b[0;31m \u001b[0;32mfrom\u001b[0m \u001b[0mmrcnn\u001b[0m\u001b[0;34m.\u001b[0m\u001b[0mvisualize\u001b[0m \u001b[0;32mimport\u001b[0m \u001b[0mdisplay_instances\u001b[0m\u001b[0;34m\u001b[0m\u001b[0;34m\u001b[0m\u001b[0m\n\u001b[0m\u001b[1;32m      5\u001b[0m \u001b[0;34m\u001b[0m\u001b[0m\n\u001b[1;32m      6\u001b[0m \u001b[0mcap\u001b[0m \u001b[0;34m=\u001b[0m \u001b[0mcv2\u001b[0m\u001b[0;34m.\u001b[0m\u001b[0mVideoCapture\u001b[0m\u001b[0;34m(\u001b[0m\u001b[0;36m0\u001b[0m\u001b[0;34m)\u001b[0m\u001b[0;34m\u001b[0m\u001b[0;34m\u001b[0m\u001b[0m\n",
      "\u001b[0;31mModuleNotFoundError\u001b[0m: No module named 'mrcnn'"
     ]
    }
   ],
   "source": [
    "import numpy as np\n",
    "import cv2\n",
    "import time\n",
    "from mrcnn.visualize import display_instances\n",
    "\n",
    "cap = cv2.VideoCapture(0)\n",
    "cnt = 0\n",
    "while(cnt<500):\n",
    "    ret, frame = cap.read()\n",
    "    #gray = cv2.cvtColor(frame, cv2.COLOR_BGR2GRAY)\n",
    "    \n",
    "    if cnt%100==0:\n",
    "        results = model.detect([frame], verbose=1)\n",
    "        r = results[0]\n",
    "        visualize.display_instances(frame, r['rois'], r['masks'], r['class_ids'], \n",
    "                                    class_names, r['scores'],show_mask=True)\n",
    "        \n",
    "    cnt+=1\n",
    "    cv2.imshow('frame',frame)\n",
    "    if cv2.waitKey(1) & 0xFF == ord('q'):\n",
    "        break\n",
    "\n",
    "cap.release()\n",
    "cv2.destroyAllWindows()"
   ]
  },
  {
   "cell_type": "code",
   "execution_count": null,
   "metadata": {},
   "outputs": [],
   "source": []
  }
 ],
 "metadata": {
  "kernelspec": {
   "display_name": "Python 3",
   "language": "python",
   "name": "python3"
  },
  "language_info": {
   "codemirror_mode": {
    "name": "ipython",
    "version": 3
   },
   "file_extension": ".py",
   "mimetype": "text/x-python",
   "name": "python",
   "nbconvert_exporter": "python",
   "pygments_lexer": "ipython3",
   "version": "3.7.4"
  }
 },
 "nbformat": 4,
 "nbformat_minor": 4
}
